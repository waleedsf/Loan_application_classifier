{
 "cells": [
  {
   "cell_type": "code",
   "execution_count": null,
   "id": "4a219eda",
   "metadata": {},
   "outputs": [],
   "source": [
    "import numpy as np\n",
    "import pandas as pd\n",
    "import matplotlib.pyplot as plt\n",
    "import seaborn as sns\n"
   ]
  },
  {
   "cell_type": "code",
   "execution_count": null,
   "id": "c31e8f8d",
   "metadata": {},
   "outputs": [],
   "source": [
    "data = pd.read_csv(\"train_set.csv\")"
   ]
  },
  {
   "cell_type": "code",
   "execution_count": null,
   "id": "9d080311",
   "metadata": {},
   "outputs": [],
   "source": [
    "data.head()"
   ]
  },
  {
   "cell_type": "code",
   "execution_count": null,
   "id": "ce29f005",
   "metadata": {},
   "outputs": [],
   "source": [
    "data.nunique()"
   ]
  },
  {
   "cell_type": "code",
   "execution_count": null,
   "id": "106a0914",
   "metadata": {},
   "outputs": [],
   "source": [
    "data.describe()"
   ]
  },
  {
   "cell_type": "code",
   "execution_count": null,
   "id": "c0f9b822",
   "metadata": {},
   "outputs": [],
   "source": [
    "data.isnull().sum() # check missing values"
   ]
  },
  {
   "cell_type": "code",
   "execution_count": null,
   "id": "275d616f",
   "metadata": {},
   "outputs": [],
   "source": [
    "# fill missing values with the - mean (numerical)\n",
    "\n",
    "data[\"LoanAmount\"] = data[\"LoanAmount\"].fillna(data[\"LoanAmount\"].mean())\n",
    "\n",
    "data[\"Loan_Amount_Term\"] = data[\"Loan_Amount_Term\"].fillna(data[\"Loan_Amount_Term\"].mean())\n",
    "\n",
    "data[\"Credit_History\"] = data[\"Credit_History\"].fillna(data[\"Credit_History\"].mean())\n",
    "\n"
   ]
  },
  {
   "cell_type": "code",
   "execution_count": null,
   "id": "f8a5c4b4",
   "metadata": {},
   "outputs": [],
   "source": [
    "# fill missValue for - mode  (categorical) \n",
    "data['Gender'] = data['Gender'].fillna(data['Gender'].mode()[0])\n",
    "data['Married'] = data['Married'].fillna(data['Married'].mode()[0])\n",
    "data['Dependents'] = data['Dependents'].fillna(data['Dependents'].mode()[0])\n",
    "data['Self_Employed'] = data['Self_Employed'].fillna(data['Self_Employed'].mode()[0])\n",
    "\n"
   ]
  },
  {
   "cell_type": "code",
   "execution_count": null,
   "id": "7d08b48b",
   "metadata": {},
   "outputs": [],
   "source": [
    "data.isnull().sum() "
   ]
  },
  {
   "cell_type": "code",
   "execution_count": null,
   "id": "eeb7a0a4",
   "metadata": {},
   "outputs": [],
   "source": [
    "sns.countplot(data['Gender'])"
   ]
  },
  {
   "cell_type": "code",
   "execution_count": null,
   "id": "3e5cdd9d",
   "metadata": {},
   "outputs": [],
   "source": [
    "sns.countplot(data['Married'])"
   ]
  },
  {
   "cell_type": "code",
   "execution_count": null,
   "id": "24b750a4",
   "metadata": {},
   "outputs": [],
   "source": [
    "sns.countplot(data['Dependents'])"
   ]
  },
  {
   "cell_type": "code",
   "execution_count": null,
   "id": "0fb493b8",
   "metadata": {},
   "outputs": [],
   "source": [
    "sns.countplot(data['Self_Employed'])"
   ]
  },
  {
   "cell_type": "code",
   "execution_count": null,
   "id": "0cacfcec",
   "metadata": {},
   "outputs": [],
   "source": [
    "sns.countplot(data['Loan_Status'])"
   ]
  },
  {
   "cell_type": "code",
   "execution_count": null,
   "id": "7cd36eaa",
   "metadata": {},
   "outputs": [],
   "source": [
    "# create a new column appIncome + CoappIncome = total_income\n",
    "\n",
    "\n",
    "data[\"total_income\"] = data['ApplicantIncome'] + data['CoapplicantIncome']\n",
    "data.head()\n"
   ]
  },
  {
   "cell_type": "markdown",
   "id": "2f0d578a",
   "metadata": {},
   "source": [
    "## Log transformation "
   ]
  },
  {
   "cell_type": "code",
   "execution_count": null,
   "id": "2d85c6f5",
   "metadata": {},
   "outputs": [],
   "source": [
    " sns.distplot(data['ApplicantIncome'])"
   ]
  },
  {
   "cell_type": "code",
   "execution_count": null,
   "id": "e4eac467",
   "metadata": {},
   "outputs": [],
   "source": [
    "# not normally disterbute ---> normlaize the data by apply log transformation  \n",
    "\n",
    "# data['ApplicantIncome'] = np.log(data['ApplicantIncome'])\n",
    "# sns.distplot(data['ApplicantIncome'])"
   ]
  },
  {
   "cell_type": "code",
   "execution_count": null,
   "id": "a736e6b5",
   "metadata": {},
   "outputs": [],
   "source": []
  },
  {
   "cell_type": "code",
   "execution_count": null,
   "id": "89b618d3",
   "metadata": {},
   "outputs": [],
   "source": [
    "#  sns.distplot(data['CoapplicantIncome'])"
   ]
  },
  {
   "cell_type": "code",
   "execution_count": null,
   "id": "09049df2",
   "metadata": {},
   "outputs": [],
   "source": [
    "# data['CoapplicantIncome'] = np.log(data['CoapplicantIncome']) \n",
    "\n",
    "# sns.distplot(data['CoapplicantIncome'])"
   ]
  },
  {
   "cell_type": "code",
   "execution_count": null,
   "id": "dd1d3805",
   "metadata": {},
   "outputs": [],
   "source": [
    "data['LoanAmount'] = np.log(data['LoanAmount']) \n",
    "\n",
    "sns.distplot(data['LoanAmount'])"
   ]
  },
  {
   "cell_type": "code",
   "execution_count": null,
   "id": "851fe299",
   "metadata": {},
   "outputs": [],
   "source": [
    "data['Loan_Amount_Term'] = np.log(data['Loan_Amount_Term']) \n",
    "\n",
    "sns.distplot(data['Loan_Amount_Term'])\n"
   ]
  },
  {
   "cell_type": "code",
   "execution_count": 104,
   "id": "b3a466af",
   "metadata": {},
   "outputs": [
    {
     "name": "stderr",
     "output_type": "stream",
     "text": [
      "/Users/alwaleedalattas/opt/anaconda3/lib/python3.9/site-packages/seaborn/distributions.py:2619: FutureWarning: `distplot` is a deprecated function and will be removed in a future version. Please adapt your code to use either `displot` (a figure-level function with similar flexibility) or `histplot` (an axes-level function for histograms).\n",
      "  warnings.warn(msg, FutureWarning)\n"
     ]
    },
    {
     "data": {
      "text/plain": [
       "<AxesSubplot:xlabel='total_income', ylabel='Density'>"
      ]
     },
     "execution_count": 104,
     "metadata": {},
     "output_type": "execute_result"
    },
    {
     "data": {
      "image/png": "[encoded data removed]",
      "text/plain": [
       "<Figure size 432x288 with 1 Axes>"
      ]
     },
     "metadata": {
      "needs_background": "light"
     },
     "output_type": "display_data"
    }
   ],
   "source": [
    "sns.distplot(data['total_income'])"
   ]
  },
  {
   "cell_type": "code",
   "execution_count": 105,
   "id": "72f2afff",
   "metadata": {},
   "outputs": [
    {
     "name": "stderr",
     "output_type": "stream",
     "text": [
      "/Users/alwaleedalattas/opt/anaconda3/lib/python3.9/site-packages/seaborn/distributions.py:2619: FutureWarning: `distplot` is a deprecated function and will be removed in a future version. Please adapt your code to use either `displot` (a figure-level function with similar flexibility) or `histplot` (an axes-level function for histograms).\n",
      "  warnings.warn(msg, FutureWarning)\n"
     ]
    },
    {
     "data": {
      "text/plain": [
       "<AxesSubplot:xlabel='total_income', ylabel='Density'>"
      ]
     },
     "execution_count": 105,
     "metadata": {},
     "output_type": "execute_result"
    },
    {
     "data": {
      "image/png": "[encoded data removed]",
      "text/plain": [
       "<Figure size 432x288 with 1 Axes>"
      ]
     },
     "metadata": {
      "needs_background": "light"
     },
     "output_type": "display_data"
    }
   ],
   "source": [
    "data['total_income'] = np.log(data['total_income']) \n",
    "\n",
    "sns.distplot(data['total_income'])\n"
   ]
  },
  {
   "cell_type": "markdown",
   "id": "5641a6c0",
   "metadata": {},
   "source": [
    "## Coorelation Matrix"
   ]
  },
  {
   "cell_type": "code",
   "execution_count": null,
   "id": "a0454ec2",
   "metadata": {},
   "outputs": [],
   "source": [
    "corr = data.corr()\n",
    "sns.heatmap(corr , annot=True)"
   ]
  },
  {
   "cell_type": "code",
   "execution_count": 109,
   "id": "86f679cd",
   "metadata": {},
   "outputs": [
    {
     "data": {
      "text/html": [
       "<div>\n",
       "<style scoped>\n",
       "    .dataframe tbody tr th:only-of-type {\n",
       "        vertical-align: middle;\n",
       "    }\n",
       "\n",
       "    .dataframe tbody tr th {\n",
       "        vertical-align: top;\n",
       "    }\n",
       "\n",
       "    .dataframe thead th {\n",
       "        text-align: right;\n",
       "    }\n",
       "</style>\n",
       "<table border=\"1\" class=\"dataframe\">\n",
       "  <thead>\n",
       "    <tr style=\"text-align: right;\">\n",
       "      <th></th>\n",
       "      <th>Gender</th>\n",
       "      <th>Married</th>\n",
       "      <th>Dependents</th>\n",
       "      <th>Education</th>\n",
       "      <th>Self_Employed</th>\n",
       "      <th>LoanAmount</th>\n",
       "      <th>Loan_Amount_Term</th>\n",
       "      <th>Credit_History</th>\n",
       "      <th>Property_Area</th>\n",
       "      <th>Loan_Status</th>\n",
       "      <th>total_income</th>\n",
       "    </tr>\n",
       "  </thead>\n",
       "  <tbody>\n",
       "    <tr>\n",
       "      <th>0</th>\n",
       "      <td>1</td>\n",
       "      <td>0</td>\n",
       "      <td>0</td>\n",
       "      <td>0</td>\n",
       "      <td>0</td>\n",
       "      <td>4.986426</td>\n",
       "      <td>5.886104</td>\n",
       "      <td>1.0</td>\n",
       "      <td>2</td>\n",
       "      <td>1</td>\n",
       "      <td>2.160333</td>\n",
       "    </tr>\n",
       "    <tr>\n",
       "      <th>1</th>\n",
       "      <td>1</td>\n",
       "      <td>1</td>\n",
       "      <td>1</td>\n",
       "      <td>0</td>\n",
       "      <td>0</td>\n",
       "      <td>4.852030</td>\n",
       "      <td>5.886104</td>\n",
       "      <td>1.0</td>\n",
       "      <td>0</td>\n",
       "      <td>0</td>\n",
       "      <td>2.164996</td>\n",
       "    </tr>\n",
       "    <tr>\n",
       "      <th>2</th>\n",
       "      <td>1</td>\n",
       "      <td>1</td>\n",
       "      <td>0</td>\n",
       "      <td>0</td>\n",
       "      <td>1</td>\n",
       "      <td>4.189655</td>\n",
       "      <td>5.886104</td>\n",
       "      <td>1.0</td>\n",
       "      <td>2</td>\n",
       "      <td>1</td>\n",
       "      <td>2.080237</td>\n",
       "    </tr>\n",
       "    <tr>\n",
       "      <th>3</th>\n",
       "      <td>1</td>\n",
       "      <td>1</td>\n",
       "      <td>0</td>\n",
       "      <td>1</td>\n",
       "      <td>0</td>\n",
       "      <td>4.787492</td>\n",
       "      <td>5.886104</td>\n",
       "      <td>1.0</td>\n",
       "      <td>2</td>\n",
       "      <td>1</td>\n",
       "      <td>2.140692</td>\n",
       "    </tr>\n",
       "    <tr>\n",
       "      <th>4</th>\n",
       "      <td>1</td>\n",
       "      <td>0</td>\n",
       "      <td>0</td>\n",
       "      <td>0</td>\n",
       "      <td>0</td>\n",
       "      <td>4.948760</td>\n",
       "      <td>5.886104</td>\n",
       "      <td>1.0</td>\n",
       "      <td>2</td>\n",
       "      <td>1</td>\n",
       "      <td>2.163267</td>\n",
       "    </tr>\n",
       "  </tbody>\n",
       "</table>\n",
       "</div>"
      ],
      "text/plain": [
       "   Gender  Married  Dependents  Education  Self_Employed  LoanAmount  \\\n",
       "0       1        0           0          0              0    4.986426   \n",
       "1       1        1           1          0              0    4.852030   \n",
       "2       1        1           0          0              1    4.189655   \n",
       "3       1        1           0          1              0    4.787492   \n",
       "4       1        0           0          0              0    4.948760   \n",
       "\n",
       "   Loan_Amount_Term  Credit_History  Property_Area  Loan_Status  total_income  \n",
       "0          5.886104             1.0              2            1      2.160333  \n",
       "1          5.886104             1.0              0            0      2.164996  \n",
       "2          5.886104             1.0              2            1      2.080237  \n",
       "3          5.886104             1.0              2            1      2.140692  \n",
       "4          5.886104             1.0              2            1      2.163267  "
      ]
     },
     "execution_count": 109,
     "metadata": {},
     "output_type": "execute_result"
    }
   ],
   "source": [
    "data.head()"
   ]
  },
  {
   "cell_type": "code",
   "execution_count": null,
   "id": "c974e583",
   "metadata": {},
   "outputs": [],
   "source": [
    "data.isnull().sum() # check missing values"
   ]
  },
  {
   "cell_type": "code",
   "execution_count": 108,
   "id": "ce6620f3",
   "metadata": {},
   "outputs": [],
   "source": [
    "cols_drop = ['Loan_ID', 'CoapplicantIncome', 'ApplicantIncome']\n",
    "\n",
    "\n",
    "data = data.drop(cols_drop , axis = 1)\n",
    "\n"
   ]
  },
  {
   "cell_type": "code",
   "execution_count": 110,
   "id": "195676bc",
   "metadata": {},
   "outputs": [],
   "source": [
    "from sklearn.preprocessing import LabelEncoder"
   ]
  },
  {
   "cell_type": "code",
   "execution_count": 111,
   "id": "912865dc",
   "metadata": {},
   "outputs": [
    {
     "data": {
      "text/plain": [
       "Index(['Gender', 'Married', 'Dependents', 'Education', 'Self_Employed',\n",
       "       'LoanAmount', 'Loan_Amount_Term', 'Credit_History', 'Property_Area',\n",
       "       'Loan_Status', 'total_income'],\n",
       "      dtype='object')"
      ]
     },
     "execution_count": 111,
     "metadata": {},
     "output_type": "execute_result"
    }
   ],
   "source": [
    "data.columns\n"
   ]
  },
  {
   "cell_type": "code",
   "execution_count": 112,
   "id": "382f3d57",
   "metadata": {},
   "outputs": [],
   "source": [
    "cols = ['Gender' , 'Married' , 'Education' , 'Self_Employed' , 'Property_Area' , 'Loan_Status' , 'Dependents' ]\n",
    "\n",
    "_ = LabelEncoder()\n",
    "\n",
    "for col in cols:\n",
    "    data[col] = _.fit_transform(data[col])\n",
    "    "
   ]
  },
  {
   "cell_type": "code",
   "execution_count": 113,
   "id": "a1ea71c2",
   "metadata": {},
   "outputs": [
    {
     "data": {
      "text/html": [
       "<div>\n",
       "<style scoped>\n",
       "    .dataframe tbody tr th:only-of-type {\n",
       "        vertical-align: middle;\n",
       "    }\n",
       "\n",
       "    .dataframe tbody tr th {\n",
       "        vertical-align: top;\n",
       "    }\n",
       "\n",
       "    .dataframe thead th {\n",
       "        text-align: right;\n",
       "    }\n",
       "</style>\n",
       "<table border=\"1\" class=\"dataframe\">\n",
       "  <thead>\n",
       "    <tr style=\"text-align: right;\">\n",
       "      <th></th>\n",
       "      <th>Gender</th>\n",
       "      <th>Married</th>\n",
       "      <th>Dependents</th>\n",
       "      <th>Education</th>\n",
       "      <th>Self_Employed</th>\n",
       "      <th>LoanAmount</th>\n",
       "      <th>Loan_Amount_Term</th>\n",
       "      <th>Credit_History</th>\n",
       "      <th>Property_Area</th>\n",
       "      <th>Loan_Status</th>\n",
       "      <th>total_income</th>\n",
       "    </tr>\n",
       "  </thead>\n",
       "  <tbody>\n",
       "    <tr>\n",
       "      <th>0</th>\n",
       "      <td>1</td>\n",
       "      <td>0</td>\n",
       "      <td>0</td>\n",
       "      <td>0</td>\n",
       "      <td>0</td>\n",
       "      <td>4.986426</td>\n",
       "      <td>5.886104</td>\n",
       "      <td>1.0</td>\n",
       "      <td>2</td>\n",
       "      <td>1</td>\n",
       "      <td>2.160333</td>\n",
       "    </tr>\n",
       "    <tr>\n",
       "      <th>1</th>\n",
       "      <td>1</td>\n",
       "      <td>1</td>\n",
       "      <td>1</td>\n",
       "      <td>0</td>\n",
       "      <td>0</td>\n",
       "      <td>4.852030</td>\n",
       "      <td>5.886104</td>\n",
       "      <td>1.0</td>\n",
       "      <td>0</td>\n",
       "      <td>0</td>\n",
       "      <td>2.164996</td>\n",
       "    </tr>\n",
       "    <tr>\n",
       "      <th>2</th>\n",
       "      <td>1</td>\n",
       "      <td>1</td>\n",
       "      <td>0</td>\n",
       "      <td>0</td>\n",
       "      <td>1</td>\n",
       "      <td>4.189655</td>\n",
       "      <td>5.886104</td>\n",
       "      <td>1.0</td>\n",
       "      <td>2</td>\n",
       "      <td>1</td>\n",
       "      <td>2.080237</td>\n",
       "    </tr>\n",
       "    <tr>\n",
       "      <th>3</th>\n",
       "      <td>1</td>\n",
       "      <td>1</td>\n",
       "      <td>0</td>\n",
       "      <td>1</td>\n",
       "      <td>0</td>\n",
       "      <td>4.787492</td>\n",
       "      <td>5.886104</td>\n",
       "      <td>1.0</td>\n",
       "      <td>2</td>\n",
       "      <td>1</td>\n",
       "      <td>2.140692</td>\n",
       "    </tr>\n",
       "    <tr>\n",
       "      <th>4</th>\n",
       "      <td>1</td>\n",
       "      <td>0</td>\n",
       "      <td>0</td>\n",
       "      <td>0</td>\n",
       "      <td>0</td>\n",
       "      <td>4.948760</td>\n",
       "      <td>5.886104</td>\n",
       "      <td>1.0</td>\n",
       "      <td>2</td>\n",
       "      <td>1</td>\n",
       "      <td>2.163267</td>\n",
       "    </tr>\n",
       "  </tbody>\n",
       "</table>\n",
       "</div>"
      ],
      "text/plain": [
       "   Gender  Married  Dependents  Education  Self_Employed  LoanAmount  \\\n",
       "0       1        0           0          0              0    4.986426   \n",
       "1       1        1           1          0              0    4.852030   \n",
       "2       1        1           0          0              1    4.189655   \n",
       "3       1        1           0          1              0    4.787492   \n",
       "4       1        0           0          0              0    4.948760   \n",
       "\n",
       "   Loan_Amount_Term  Credit_History  Property_Area  Loan_Status  total_income  \n",
       "0          5.886104             1.0              2            1      2.160333  \n",
       "1          5.886104             1.0              0            0      2.164996  \n",
       "2          5.886104             1.0              2            1      2.080237  \n",
       "3          5.886104             1.0              2            1      2.140692  \n",
       "4          5.886104             1.0              2            1      2.163267  "
      ]
     },
     "execution_count": 113,
     "metadata": {},
     "output_type": "execute_result"
    }
   ],
   "source": [
    "data.head()"
   ]
  },
  {
   "cell_type": "code",
   "execution_count": 114,
   "id": "9b467f9e",
   "metadata": {},
   "outputs": [],
   "source": [
    "y = data['Loan_Status']\n",
    "\n",
    "x = data.drop(['Loan_Status'] , axis = 1)\n"
   ]
  },
  {
   "cell_type": "code",
   "execution_count": 116,
   "id": "500f5b2f",
   "metadata": {},
   "outputs": [
    {
     "data": {
      "text/plain": [
       "0      1\n",
       "1      0\n",
       "2      1\n",
       "3      1\n",
       "4      1\n",
       "      ..\n",
       "609    1\n",
       "610    1\n",
       "611    1\n",
       "612    1\n",
       "613    0\n",
       "Name: Loan_Status, Length: 614, dtype: int64"
      ]
     },
     "execution_count": 116,
     "metadata": {},
     "output_type": "execute_result"
    }
   ],
   "source": []
  },
  {
   "cell_type": "code",
   "execution_count": 117,
   "id": "e63dd1da",
   "metadata": {},
   "outputs": [],
   "source": [
    "from sklearn.model_selection import train_test_split\n",
    "\n",
    "x_train , x_test , y_train , y_test = train_test_split(x , y , test_size=0.2 , random_state = 42)"
   ]
  },
  {
   "cell_type": "code",
   "execution_count": null,
   "id": "0e9dfb3f",
   "metadata": {},
   "outputs": [],
   "source": [
    "# def classify (model , x , y):\n",
    "#     x_train , x_test , y_train , y_test = train_test_split(x , y , test_size=0.2 , random_state = 42)\n",
    "#     model.fit(x_train , y_train)\n",
    "#     print(\"Accuracy  = \",model.score(x_test , y_test) *100)"
   ]
  },
  {
   "cell_type": "code",
   "execution_count": 118,
   "id": "3cd0c000",
   "metadata": {},
   "outputs": [],
   "source": [
    "x_train , x_test , y_train , y_test = train_test_split(x , y , test_size=0.2 , random_state = 42)\n"
   ]
  },
  {
   "cell_type": "code",
   "execution_count": 119,
   "id": "8ebda834",
   "metadata": {},
   "outputs": [],
   "source": [
    "from sklearn.metrics import accuracy_score\n"
   ]
  },
  {
   "cell_type": "markdown",
   "id": "a087e148",
   "metadata": {},
   "source": [
    "## LR"
   ]
  },
  {
   "cell_type": "code",
   "execution_count": 120,
   "id": "f3da15e4",
   "metadata": {},
   "outputs": [
    {
     "name": "stdout",
     "output_type": "stream",
     "text": [
      "LogisticRegression Accuracy  =  78.86178861788618\n"
     ]
    }
   ],
   "source": [
    "from sklearn.linear_model import LogisticRegression\n",
    "\n",
    "\n",
    "lr = LogisticRegression().fit(x_train , y_train)\n",
    "\n",
    "yhat = lr.predict(x_test)\n",
    "\n",
    "lr_score = accuracy_score(y_test, yhat)*100\n",
    "\n",
    "print(\"LogisticRegression Accuracy  = \", lr_score)\n",
    "\n"
   ]
  },
  {
   "cell_type": "markdown",
   "id": "31a1cde8",
   "metadata": {},
   "source": [
    "## DecTree"
   ]
  },
  {
   "cell_type": "code",
   "execution_count": 121,
   "id": "c85ee9b7",
   "metadata": {},
   "outputs": [
    {
     "name": "stdout",
     "output_type": "stream",
     "text": [
      "DecisionTree Accuracy:  69.10569105691057\n"
     ]
    }
   ],
   "source": [
    "from sklearn.tree import DecisionTreeClassifier\n",
    "\n",
    "decTree = DecisionTreeClassifier().fit(x_train , y_train)\n",
    "\n",
    "yhat = decTree.predict(x_test)\n",
    "\n",
    "dec_tree_score = accuracy_score(y_test, yhat)*100\n",
    "\n",
    "print(\"DecisionTree Accuracy: \", dec_tree_score)"
   ]
  },
  {
   "cell_type": "markdown",
   "id": "fd715611",
   "metadata": {},
   "source": [
    "## KNN"
   ]
  },
  {
   "cell_type": "code",
   "execution_count": 132,
   "id": "5f9297ea",
   "metadata": {},
   "outputs": [
    {
     "data": {
      "text/plain": [
       "array([0.70731707, 0.61788618, 0.73170732, 0.69105691, 0.7398374 ,\n",
       "       0.69105691, 0.71544715, 0.69918699, 0.71544715, 0.7398374 ,\n",
       "       0.71544715, 0.7398374 , 0.73170732, 0.7398374 , 0.76422764,\n",
       "       0.74796748, 0.73170732, 0.7398374 , 0.71544715, 0.7398374 ,\n",
       "       0.72357724, 0.74796748, 0.71544715, 0.72357724, 0.69918699,\n",
       "       0.72357724, 0.69105691, 0.70731707, 0.70731707])"
      ]
     },
     "execution_count": 132,
     "metadata": {},
     "output_type": "execute_result"
    }
   ],
   "source": [
    "#find best value of K\n",
    "from sklearn.neighbors import KNeighborsClassifier\n",
    "from sklearn import metrics\n",
    "\n",
    "Kvals = 30\n",
    "mean_acc = np.zeros((Kvals-1))\n",
    "std_acc = np.zeros((Kvals-1))\n",
    "for n in range(1,Kvals):\n",
    "    \n",
    "    #Train Model and Predict  \n",
    "    neigh = KNeighborsClassifier(n_neighbors = n).fit(x_train,y_train)\n",
    "    yhat=neigh.predict(x_test)\n",
    "    mean_acc[n-1] = metrics.accuracy_score(y_test, yhat)\n",
    "\n",
    "    \n",
    "    std_acc[n-1]=np.std(yhat==y_test)/np.sqrt(yhat.shape[0])\n",
    "\n",
    "mean_acc"
   ]
  },
  {
   "cell_type": "code",
   "execution_count": 138,
   "id": "c2d441ce",
   "metadata": {},
   "outputs": [
    {
     "data": {
      "image/png": "[encoded data removed]",
      "text/plain": [
       "<Figure size 432x288 with 1 Axes>"
      ]
     },
     "metadata": {
      "needs_background": "light"
     },
     "output_type": "display_data"
    }
   ],
   "source": [
    "#plot accuracy vs k values\n",
    "plt.plot(range(1,Kvals),mean_acc,'b')\n",
    "plt.fill_between(range(1,Kvals),mean_acc - 1 * std_acc,mean_acc + 1 * std_acc, alpha=0.2)\n",
    "plt.legend(('Accuracy ', '+/- 3xstd'))\n",
    "plt.ylabel('Accuracy ')\n",
    "plt.xlabel('Number of Neighbors (K)')\n",
    "plt.tight_layout()\n",
    "plt.show()"
   ]
  },
  {
   "cell_type": "code",
   "execution_count": 136,
   "id": "44ff6944",
   "metadata": {},
   "outputs": [
    {
     "name": "stdout",
     "output_type": "stream",
     "text": [
      "KNN Accuracy:  76.42276422764228\n"
     ]
    }
   ],
   "source": [
    "from sklearn.neighbors import KNeighborsClassifier\n",
    "from sklearn import metrics\n",
    "\n",
    "neigh = KNeighborsClassifier(n_neighbors = 15).fit(x_train,y_train)\n",
    "\n",
    "yhat = neigh.predict(x_test)\n",
    "\n",
    "knn_score = accuracy_score(y_test, yhat)*100\n",
    "\n",
    "print(\"KNN Accuracy: \", knn_score)"
   ]
  },
  {
   "cell_type": "markdown",
   "id": "6c93f17c",
   "metadata": {},
   "source": [
    "## SVM"
   ]
  },
  {
   "cell_type": "code",
   "execution_count": 123,
   "id": "28a3ec52",
   "metadata": {},
   "outputs": [
    {
     "name": "stdout",
     "output_type": "stream",
     "text": [
      "SVM Accuracy:  78.86178861788618\n"
     ]
    }
   ],
   "source": [
    "from sklearn import svm\n",
    "\n",
    "clf = svm.SVC(kernel='linear').fit(x_train, y_train)\n",
    "\n",
    "yhat = clf.predict(x_test)\n",
    "\n",
    "yhat[0:5]\n",
    "\n",
    "svm_score = accuracy_score(y_test, yhat) * 100\n",
    "\n",
    "print(\"SVM Accuracy: \", svm_score)\n"
   ]
  },
  {
   "cell_type": "markdown",
   "id": "5c484153",
   "metadata": {},
   "source": [
    "## report result"
   ]
  },
  {
   "cell_type": "code",
   "execution_count": 124,
   "id": "d223f74e",
   "metadata": {},
   "outputs": [],
   "source": [
    "from sklearn.metrics import jaccard_score\n",
    "from sklearn.metrics import f1_score\n",
    "from sklearn.metrics import log_loss"
   ]
  },
  {
   "cell_type": "code",
   "execution_count": 140,
   "id": "09e0fff7",
   "metadata": {},
   "outputs": [
    {
     "data": {
      "text/plain": [
       "76.42276422764228"
      ]
     },
     "execution_count": 140,
     "metadata": {},
     "output_type": "execute_result"
    }
   ],
   "source": [
    "knn_yhat = neigh.predict(x_test)\n",
    "knn_score"
   ]
  },
  {
   "cell_type": "markdown",
   "id": "9312938b",
   "metadata": {},
   "source": [
    "## Jaccard "
   ]
  },
  {
   "cell_type": "code",
   "execution_count": 153,
   "id": "640a23fb",
   "metadata": {},
   "outputs": [
    {
     "data": {
      "text/plain": [
       "[73.39449541284404, 61.61616161616161, 75.23809523809524, 75.23809523809524]"
      ]
     },
     "execution_count": 153,
     "metadata": {},
     "output_type": "execute_result"
    }
   ],
   "source": [
    "# evaluate knn\n",
    "knn_yhat = neigh.predict(x_test)\n",
    "jc1 = (jaccard_score(y_test, knn_yhat)*100)\n",
    "\n",
    "# evaluate Decision Trees\n",
    "dt_yhat = decTree.predict(x_test)\n",
    "jc2 = (jaccard_score(y_test, dt_yhat)*100)\n",
    "\n",
    "#evaluate SVM\n",
    "svm_yhat = clf.predict(x_test)\n",
    "jc3 = (jaccard_score(y_test, svm_yhat) *100)\n",
    "\n",
    "# evaluate Logistic Regression\n",
    "lr_yhat = lr.predict(x_test)\n",
    "jc4 = (jaccard_score(y_test, lr_yhat)*100)\n",
    "\n",
    "jaccard_scores = [jc1, jc2, jc3, jc4]\n",
    "jaccard_scores"
   ]
  },
  {
   "cell_type": "markdown",
   "id": "0c58cec7",
   "metadata": {},
   "source": [
    "## F1 score"
   ]
  },
  {
   "cell_type": "code",
   "execution_count": 154,
   "id": "0479cc53",
   "metadata": {},
   "outputs": [
    {
     "data": {
      "text/plain": [
       "[72.23388190439968, 69.10569105691057, 76.14910090194871, 76.14910090194871]"
      ]
     },
     "execution_count": 154,
     "metadata": {},
     "output_type": "execute_result"
    }
   ],
   "source": [
    "# evaluate KNN\n",
    "fs1 = (f1_score(y_test, knn_yhat, average='weighted')*100)\n",
    "# evaluate Desision Trees \n",
    "fs2 = (f1_score(y_test, dt_yhat,  average='weighted')*100)\n",
    "# evaluate SVM\n",
    "fs3 = (f1_score(y_test, svm_yhat, average='weighted')*100)\n",
    "# evaluate Logistic Regression\n",
    "fs4 = (f1_score(y_test, lr_yhat,  average='weighted')*100)\n",
    "\n",
    "f1_scores = [fs1, fs2, fs3, fs4]\n",
    "f1_scores"
   ]
  },
  {
   "cell_type": "code",
   "execution_count": 150,
   "id": "296138b1",
   "metadata": {},
   "outputs": [
    {
     "data": {
      "text/plain": [
       "['NA', 'NA', 'NA', 50.907588647361365]"
      ]
     },
     "execution_count": 150,
     "metadata": {},
     "output_type": "execute_result"
    }
   ],
   "source": [
    "LR_yhat_prob = lr.predict_proba(x_test)\n",
    "\n",
    "list_ll = ['NA', 'NA', 'NA',(log_loss(y_test, LR_yhat_prob)) * 100]\n",
    "list_ll"
   ]
  },
  {
   "cell_type": "code",
   "execution_count": 155,
   "id": "a28f1966",
   "metadata": {},
   "outputs": [
    {
     "data": {
      "text/html": [
       "<div>\n",
       "<style scoped>\n",
       "    .dataframe tbody tr th:only-of-type {\n",
       "        vertical-align: middle;\n",
       "    }\n",
       "\n",
       "    .dataframe tbody tr th {\n",
       "        vertical-align: top;\n",
       "    }\n",
       "\n",
       "    .dataframe thead th {\n",
       "        text-align: right;\n",
       "    }\n",
       "</style>\n",
       "<table border=\"1\" class=\"dataframe\">\n",
       "  <thead>\n",
       "    <tr style=\"text-align: right;\">\n",
       "      <th>Algorithm</th>\n",
       "      <th>Jaccard</th>\n",
       "      <th>F1-score</th>\n",
       "      <th>LogLoss</th>\n",
       "    </tr>\n",
       "  </thead>\n",
       "  <tbody>\n",
       "    <tr>\n",
       "      <th>KNN</th>\n",
       "      <td>73.394495</td>\n",
       "      <td>72.233882</td>\n",
       "      <td>NA</td>\n",
       "    </tr>\n",
       "    <tr>\n",
       "      <th>Decision Tree</th>\n",
       "      <td>61.616162</td>\n",
       "      <td>69.105691</td>\n",
       "      <td>NA</td>\n",
       "    </tr>\n",
       "    <tr>\n",
       "      <th>SVM</th>\n",
       "      <td>75.238095</td>\n",
       "      <td>76.149101</td>\n",
       "      <td>NA</td>\n",
       "    </tr>\n",
       "    <tr>\n",
       "      <th>Logistic Regression</th>\n",
       "      <td>75.238095</td>\n",
       "      <td>76.149101</td>\n",
       "      <td>50.907589</td>\n",
       "    </tr>\n",
       "  </tbody>\n",
       "</table>\n",
       "</div>"
      ],
      "text/plain": [
       "Algorithm              Jaccard   F1-score    LogLoss\n",
       "KNN                  73.394495  72.233882         NA\n",
       "Decision Tree        61.616162  69.105691         NA\n",
       "SVM                  75.238095  76.149101         NA\n",
       "Logistic Regression  75.238095  76.149101  50.907589"
      ]
     },
     "execution_count": 155,
     "metadata": {},
     "output_type": "execute_result"
    }
   ],
   "source": [
    "df = pd.DataFrame( jaccard_scores,index=['KNN','Decision Tree','SVM','Logistic Regression'])\n",
    "df.columns = ['Jaccard']\n",
    "df.insert(loc=1, column='F1-score', value=f1_scores)\n",
    "df.insert(loc=2, column='LogLoss', value=list_ll)\n",
    "df.columns.name = 'Algorithm'\n",
    "df"
   ]
  },
  {
   "cell_type": "code",
   "execution_count": null,
   "id": "c156d728",
   "metadata": {},
   "outputs": [],
   "source": []
  },
  {
   "cell_type": "code",
   "execution_count": null,
   "id": "03f51823",
   "metadata": {},
   "outputs": [],
   "source": []
  }
 ],
 "metadata": {
  "kernelspec": {
   "display_name": "Python 3 (ipykernel)",
   "language": "python",
   "name": "python3"
  },
  "language_info": {
   "codemirror_mode": {
    "name": "ipython",
    "version": 3
   },
   "file_extension": ".py",
   "mimetype": "text/x-python",
   "name": "python",
   "nbconvert_exporter": "python",
   "pygments_lexer": "ipython3",
   "version": "3.9.7"
  }
 },
 "nbformat": 4,
 "nbformat_minor": 5
}
